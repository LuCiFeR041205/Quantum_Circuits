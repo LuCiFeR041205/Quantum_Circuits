{
 "cells": [
  {
   "cell_type": "code",
   "execution_count": 10,
   "id": "8c930f6c",
   "metadata": {},
   "outputs": [],
   "source": [
    "from qiskit import QuantumCircuit ,QuantumRegister , ClassicalRegister\n",
    "from qiskit_aer import Aer\n",
    "from qiskit.visualization import plot_histogram\n",
    "\n"
   ]
  },
  {
   "cell_type": "markdown",
   "id": "6182cdf2",
   "metadata": {},
   "source": [
    "In the Deutsch–Jozsa algorithm, an oracle is a black-box function that flips an output (ancilla) qubit depending on the input qubits. The oracle_constant0 does nothing, representing a function that always outputs 0—so the output qubit stays off. The oracle_constant1 flips the output qubit once at the start, representing a function that always outputs 1, so the qubit is always on. The oracle_balanced_x0 flips the output qubit only if the first input qubit is 1, meaning it flips for half the inputs and stays the same for the other half, making it a balanced function. Finally, the oracle_balanced_parity flips the output qubit based on the parity of the first three inputs: it flips if an odd number of inputs are 1 and stays the same if even, also making it balanced. Intuitively, the output qubit acts like a switch that either never flips, always flips, flips for certain inputs, or flips depending on the odd/even combination of input qubits."
   ]
  },
  {
   "cell_type": "code",
   "execution_count": 12,
   "id": "d6a487dd",
   "metadata": {},
   "outputs": [],
   "source": [
    "def oracle_constant0(qc, n):\n",
    "    # Do nothing\n",
    "    pass\n",
    "\n",
    "def oracle_constant1(qc, n):\n",
    "    qc.x(n)   # flip the output qubit\n",
    "\n",
    "def oracle_balanced_x0(qc, n):\n",
    "    qc.cx(0, n)   # control = input 0, target = output\n",
    "\n",
    "def oracle_balanced_parity(qc, n):\n",
    "    qc.cx(0, n)\n",
    "    qc.cx(1, n)\n",
    "    qc.cx(2, n)\n"
   ]
  },
  {
   "cell_type": "markdown",
   "id": "92ca3e9b",
   "metadata": {},
   "source": [
    "This circuit implements the Deutsch–Jozsa algorithm to test whether a function is constant or balanced.\n",
    "\n",
    "1. Initialization:\n",
    "\n",
    "We have 3 input qubits (0,1,2) and 1 ancilla/output qubit (3).\n",
    "\n",
    "The ancilla qubit is flipped to \n",
    "∣\n",
    "1\n",
    "⟩\n",
    "∣1⟩ using qc.x(n) and then put into superposition using a Hadamard (qc.h(n)), preparing it to detect flips by the oracle.\n",
    "\n",
    "The input qubits are put into superposition using qc.h([0,1,2]), creating all possible input combinations simultaneously.\n",
    "\n",
    "2. Oracle:\n",
    "\n",
    "oracle_balanced_parity flips the ancilla qubit based on the parity of the three input qubits.\n",
    "\n",
    "If an odd number of input qubits are 1, the ancilla flips; if even, it stays the same.\n",
    "\n",
    "This encodes a balanced function into the circuit.\n",
    "\n",
    "3. Interference (Hadamard after oracle):\n",
    "\n",
    "After the oracle, Hadamard gates are applied again to the input qubits (qc.h([0,1,2])).\n",
    "\n",
    "This step causes quantum interference, such that if the function is balanced, the probability of measuring all 0’s becomes 0; if constant, all 0’s would be measured with certainty.\n",
    "\n",
    "4. Measurement:\n",
    "\n",
    "Input qubits are measured into classical bits (qc.measure([0,1,2], [0,1,2])).\n",
    "\n",
    "The measurement reveals the result:\n",
    "\n",
    "If all bits are 0, the function is constant.\n",
    "\n",
    "If any bit is 1, the function is balanced.\n",
    "\n",
    "5. Simulation:\n",
    "\n",
    "The circuit is run on a qasm_simulator with 1024 shots.\n",
    "\n",
    "The resulting counts show the output distribution, and plot_histogram visualizes it.\n",
    "\n",
    "## Intuition:\n",
    "\n",
    "Think of the ancilla qubit as a “parity switch” that flips for certain input combinations.\n",
    "\n",
    "Hadamard gates create superpositions to explore all inputs simultaneously and then interfere them to reveal if the function is constant or balanced.\n",
    "\n",
    "Measuring the input qubits at the end tells us the answer with just one evaluation of the oracle, demonstrating the quantum speedup."
   ]
  },
  {
   "cell_type": "code",
   "execution_count": 13,
   "id": "d597e8bc",
   "metadata": {},
   "outputs": [
    {
     "name": "stdout",
     "output_type": "stream",
     "text": [
      "{'111': 1024}\n"
     ]
    },
    {
     "data": {
      "image/png": "[encoded data removed]",
      "text/plain": [
       "<Figure size 640x480 with 1 Axes>"
      ]
     },
     "execution_count": 13,
     "metadata": {},
     "output_type": "execute_result"
    }
   ],
   "source": [
    "\n",
    "from qiskit.visualization import plot_histogram\n",
    "\n",
    "n = 3\n",
    "qc = QuantumCircuit(n+1, n)  # 4 qubits, 3 classical bits\n",
    "qc.x(n)                     # prepare ancilla\n",
    "qc.h(list(range(n)))        # Hadamard on input qubits\n",
    "qc.h(n)                     # Hadamard on ancilla\n",
    "qc.barrier()\n",
    "\n",
    "oracle_balanced_parity(qc, n)\n",
    "qc.barrier()\n",
    "\n",
    "qc.h(list(range(n)))        # Hadamard on input qubits after oracle\n",
    "qc.measure([0,1,2], [0,1,2])\n",
    "\n",
    "backend = Aer.get_backend(\"qasm_simulator\")\n",
    "result = backend.run(qc, shots=1024).result()\n",
    "counts = result.get_counts()\n",
    "print(counts)\n",
    "plot_histogram(counts)\n"
   ]
  },
  {
   "cell_type": "markdown",
   "id": "e33d95cc",
   "metadata": {},
   "source": [
    "The histogram shows that the 3 input qubits are always measured as 111. This is because the parity oracle is a balanced function: the ancilla flips for odd parity inputs, and the final Hadamard gates create constructive interference only for the 111 state. No other input states are observed, demonstrating the Deutsch–Jozsa algorithm’s ability to distinguish balanced functions."
   ]
  },
  {
   "cell_type": "code",
   "execution_count": null,
   "id": "96e3284b",
   "metadata": {},
   "outputs": [],
   "source": []
  }
 ],
 "metadata": {
  "kernelspec": {
   "display_name": "Python (quantum-1)",
   "language": "python",
   "name": "quantum-1"
  },
  "language_info": {
   "codemirror_mode": {
    "name": "ipython",
    "version": 3
   },
   "file_extension": ".py",
   "mimetype": "text/x-python",
   "name": "python",
   "nbconvert_exporter": "python",
   "pygments_lexer": "ipython3",
   "version": "3.10.18"
  }
 },
 "nbformat": 4,
 "nbformat_minor": 5
}
