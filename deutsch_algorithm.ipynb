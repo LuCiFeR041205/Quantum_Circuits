{
 "cells": [
  {
   "cell_type": "code",
   "execution_count": 11,
   "id": "1e28a351",
   "metadata": {},
   "outputs": [],
   "source": [
    "from qiskit import QuantumCircuit \n",
    "from qiskit_aer import Aer\n",
    "from qiskit.quantum_info import Statevector\n",
    "import matplotlib as plt \n",
    "from qiskit.visualization import plot_bloch_multivector , plot_histogram"
   ]
  },
  {
   "cell_type": "markdown",
   "id": "6d5e2a3d",
   "metadata": {},
   "source": [
    "In Deutsch’s algorithm, the oracle is a black-box quantum circuit that encodes a function \n",
    "𝑓\n",
    ":\n",
    "{\n",
    "0\n",
    ",\n",
    "1\n",
    "}\n",
    "→\n",
    "{\n",
    "0\n",
    ",\n",
    "1\n",
    "}\n",
    "f:{0,1}→{0,1}. It acts on two qubits, the input qubit \n",
    "𝑥\n",
    "x and an auxiliary qubit \n",
    "𝑦\n",
    "y, according to the rule \n",
    "∣\n",
    "𝑥\n",
    ",\n",
    "𝑦\n",
    "⟩\n",
    "↦\n",
    "∣\n",
    "𝑥\n",
    ",\n",
    "𝑦\n",
    "⊕\n",
    "𝑓\n",
    "(\n",
    "𝑥\n",
    ")\n",
    "⟩\n",
    "∣x,y⟩↦∣x,y⊕f(x)⟩. This means the oracle modifies the second qubit by adding \n",
    "𝑓\n",
    "(\n",
    "𝑥\n",
    ")\n",
    "f(x) modulo 2, while leaving the first qubit unchanged. There are four possible functions: two constant and two balanced.\n",
    "\n",
    "In the constant0 case (\n",
    "𝑓\n",
    "(\n",
    "𝑥\n",
    ")\n",
    "=\n",
    "0\n",
    "f(x)=0), nothing happens to the \n",
    "𝑦\n",
    "y-qubit.\n",
    "\n",
    "In the constant1 case (\n",
    "𝑓\n",
    "(\n",
    "𝑥\n",
    ")\n",
    "=\n",
    "1\n",
    "f(x)=1), the \n",
    "𝑦\n",
    "y-qubit is always flipped (an \n",
    "𝑋\n",
    "X gate).\n",
    "\n",
    "In the balanced_x case (\n",
    "𝑓\n",
    "(\n",
    "𝑥\n",
    ")\n",
    "=\n",
    "𝑥\n",
    "f(x)=x), the \n",
    "𝑦\n",
    "y-qubit is flipped if and only if the input is 1 (a CNOT).\n",
    "\n",
    "In the balanced_notx case (\n",
    "𝑓\n",
    "(\n",
    "𝑥\n",
    ")\n",
    "=\n",
    "¬\n",
    "𝑥\n",
    "f(x)=¬x), the \n",
    "𝑦\n",
    "y-qubit is flipped when the input is 0 (a CNOT followed by an extra \n",
    "𝑋\n",
    "X).\n",
    "\n",
    "By putting the input qubit into a superposition and applying the oracle once, Deutsch’s algorithm ensures that the final measurement on the input qubit directly distinguishes the two categories: result \n",
    "∣\n",
    "0\n",
    "⟩\n",
    "∣0⟩ means the function is constant, while result \n",
    "∣\n",
    "1\n",
    "⟩\n",
    "∣1⟩ means the function is balanced."
   ]
  },
  {
   "cell_type": "code",
   "execution_count": 2,
   "id": "ab82b772",
   "metadata": {},
   "outputs": [],
   "source": [
    "\n",
    "\n",
    "def oracle(qc , ftype):\n",
    "    if ftype == \"constant0\":\n",
    "        pass  # do nothing\n",
    "    elif ftype == \"constant1\":\n",
    "        qc.x(1)  # flip bottom qubit\n",
    "    elif ftype == \"balanced_x\":\n",
    "        qc.cx(0,1)  # CNOT\n",
    "    elif ftype == \"balanced_notx\":\n",
    "        qc.cx(0,1)\n",
    "        qc.x(1)\n"
   ]
  },
  {
   "cell_type": "markdown",
   "id": "66113222",
   "metadata": {},
   "source": [
    "Balanced Case Explanation:\n",
    "\n",
    "In the balanced case, the oracle is designed so that the output depends on the input qubit — meaning the function returns 0 for one input and 1 for the other. In our circuit, the \"balanced_x\" oracle implements this with a CNOT gate, which flips the second (work) qubit when the first (input) qubit is |1⟩. Because the work qubit is initialized in the |−⟩ state, this flip produces a phase kickback onto the input qubit. After applying the final Hadamard to the input qubit, this phase information is converted into a measurable result. Measuring the input qubit always gives |1⟩, which signals that the function is balanced. The work qubit’s final value (here it ends in |1⟩) is not relevant for deciding constant vs balanced."
   ]
  },
  {
   "cell_type": "markdown",
   "id": "e96e2471",
   "metadata": {},
   "source": [
    "Constant Case Explanation:\n",
    "\n",
    "In the constant case, the oracle is designed so that the function output is the same no matter what the input qubit is. For example, in the \"constant0\" oracle the work qubit is left untouched, while in the \"constant1\" oracle the work qubit is always flipped with an X gate. Since the work qubit starts in the |−⟩ state, flipping it only changes its global phase, which has no physical effect on the input qubit. As a result, after applying the final Hadamard to the input qubit, the measurement always yields |0⟩. This outcome signals that the function is constant, and again, the work qubit’s final value is irrelevant for the decision."
   ]
  },
  {
   "cell_type": "code",
   "execution_count": 14,
   "id": "ab8e59c1",
   "metadata": {},
   "outputs": [
    {
     "data": {
      "image/png": "[encoded data removed]",
      "text/plain": [
       "<Figure size 370.906x284.278 with 1 Axes>"
      ]
     },
     "execution_count": 14,
     "metadata": {},
     "output_type": "execute_result"
    }
   ],
   "source": [
    "qc = QuantumCircuit(2,2)\n",
    "qc.x(1)\n",
    "qc.h([0,1])\n",
    "oracle(qc , \"constant0\")\n",
    "\n",
    "qc.h(0)\n",
    "qc.measure(0,0)\n",
    "qc.draw('mpl')"
   ]
  },
  {
   "cell_type": "code",
   "execution_count": 15,
   "id": "75e65809",
   "metadata": {},
   "outputs": [
    {
     "name": "stdout",
     "output_type": "stream",
     "text": [
      "measurement, {'00': 1024}\n"
     ]
    },
    {
     "data": {
      "image/png": "[encoded data removed]",
      "text/plain": [
       "<Figure size 640x480 with 1 Axes>"
      ]
     },
     "execution_count": 15,
     "metadata": {},
     "output_type": "execute_result"
    }
   ],
   "source": [
    "backend = Aer.get_backend('qasm_simulator')\n",
    "job = backend.run(qc , shots = 1024)\n",
    "result = job.result()\n",
    "counts = result.get_counts()\n",
    "print(\"measurement,\" , counts)\n",
    "plot_histogram(counts)"
   ]
  },
  {
   "cell_type": "code",
   "execution_count": null,
   "id": "18f1fc93",
   "metadata": {},
   "outputs": [],
   "source": []
  }
 ],
 "metadata": {
  "kernelspec": {
   "display_name": "Python (quantum-1)",
   "language": "python",
   "name": "quantum-1"
  },
  "language_info": {
   "codemirror_mode": {
    "name": "ipython",
    "version": 3
   },
   "file_extension": ".py",
   "mimetype": "text/x-python",
   "name": "python",
   "nbconvert_exporter": "python",
   "pygments_lexer": "ipython3",
   "version": "3.10.18"
  }
 },
 "nbformat": 4,
 "nbformat_minor": 5
}
